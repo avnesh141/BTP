{
 "cells": [
  {
   "cell_type": "markdown",
   "id": "df1fdbee-a1c8-4ec5-a395-baae0dd3ddc1",
   "metadata": {
    "editable": true,
    "slideshow": {
     "slide_type": ""
    },
    "tags": []
   },
   "source": [
    "***Import Libraries***"
   ]
  },
  {
   "cell_type": "code",
   "execution_count": 112,
   "id": "7e6fa8f6",
   "metadata": {},
   "outputs": [],
   "source": [
    "import warnings\n",
    "import gc\n",
    "from pathlib import Path\n",
    "import numpy as np\n",
    "import torch\n",
    "import torch.nn as nn\n",
    "import torchaudio\n",
    "from tqdm import tqdm\n",
    "from torch.utils.data import Dataset, DataLoader # type: ignore\n",
    "from matplotlib import  pyplot as plt\n",
    "from pypesq import pesq\n",
    "import metriccs \n",
    "\n",
    "%matplotlib inline\n",
    "\n",
    "warnings.filterwarnings(action='ignore', category=DeprecationWarning)\n"
   ]
  },
  {
   "cell_type": "markdown",
   "id": "14cb1085",
   "metadata": {},
   "source": [
    "***Set noise class to train model***"
   ]
  },
  {
   "cell_type": "code",
   "execution_count": 113,
   "id": "596942f0-603c-4214-a5a3-2f8c7f02aa91",
   "metadata": {},
   "outputs": [],
   "source": [
    "noise_class=3"
   ]
  },
  {
   "cell_type": "code",
   "execution_count": 114,
   "id": "e4e123f9-e894-4bb6-a467-f80ac4c8e057",
   "metadata": {},
   "outputs": [],
   "source": [
    "TRAIN_INPUT_DIR = Path('Datasets/US_Class2'+str(noise_class)+'_Train_Input')\n",
    "TRAIN_TARGET_DIR = Path('Datasets/US_Class2'+str(noise_class)+'_Train_Output')\n",
    "TEST_NOISY_DIR = Path('Datasets/US_Class2'+str(noise_class)+'_Test_Input')\n",
    "TEST_CLEAN_DIR = Path('Datasets/clean_testset_wav')"
   ]
  },
  {
   "cell_type": "code",
   "execution_count": 115,
   "id": "ec221452-65cc-4742-bd77-6871d49322c8",
   "metadata": {},
   "outputs": [
    {
     "name": "stdout",
     "output_type": "stream",
     "text": [
      "No GPU available, training on CPU.\n"
     ]
    }
   ],
   "source": [
    "np.random.seed(999)\n",
    "torch.manual_seed(999)\n",
    "\n",
    "train_on_gpu=torch.cuda.is_available()\n",
    "\n",
    "if(train_on_gpu):\n",
    "    print('Training on GPU.')\n",
    "else:\n",
    "    print('No GPU available, training on CPU.')\n",
    "       \n",
    "DEVICE = torch.device('cuda' if train_on_gpu else 'cpu')"
   ]
  },
  {
   "cell_type": "code",
   "execution_count": 116,
   "id": "6f4ee461-5cd6-4019-8910-c6b7e8b7dcb6",
   "metadata": {},
   "outputs": [],
   "source": [
    "SAMPLE_RATE = 48000\n",
    "N_FFT = (SAMPLE_RATE * 64) // 1000 \n",
    "HOP_LENGTH = (SAMPLE_RATE * 16) // 1000 "
   ]
  },
  {
   "cell_type": "markdown",
   "id": "188a00b5",
   "metadata": {},
   "source": [
    "***Define SpeechDataSet Class***"
   ]
  },
  {
   "cell_type": "code",
   "execution_count": 117,
   "id": "261a7cb8-e105-4f91-9c83-950b6ebe0498",
   "metadata": {},
   "outputs": [],
   "source": [
    "class SpeechDataset(Dataset):\n",
    "    \n",
    "    def __init__(self, noisy_files, target_files, n_fft=64, hop_length=16):\n",
    "        super().__init__()\n",
    "        \n",
    "        self.noisy_files = sorted(noisy_files)\n",
    "        self.target_files = sorted(target_files)\n",
    "        \n",
    "        self.n_fft = n_fft\n",
    "        self.hop_length = hop_length\n",
    "        \n",
    "        self.len_ = len(self.noisy_files)\n",
    "        \n",
    "        self.max_len = 165000\n",
    "     \n",
    "    \n",
    "    def __len__(self):\n",
    "        return self.len_\n",
    "      \n",
    "    def load_sample(self, file):\n",
    "        waveform, _ = torchaudio.load(file)\n",
    "        # print(_)\n",
    "        return waveform\n",
    "  \n",
    "    def __getitem__(self, index):\n",
    "\n",
    "        file_t=self.target_files[index]\n",
    "        file_n=self.noisy_files[index]\n",
    "        file_t=str(file_t)\n",
    "        file_n=str(file_n)\n",
    "        x_target = self.load_sample(file_t)\n",
    "        x_noisy = self.load_sample(file_n)\n",
    "        \n",
    "        x_target = self._prepare_sample(x_target)\n",
    "        x_noisy = self._prepare_sample(x_noisy)\n",
    "        \n",
    "        x_noisy_stft = torch.stft(input=x_noisy, n_fft=self.n_fft, hop_length=self.hop_length,window=torch.ones(N_FFT, device=DEVICE), normalized=True,return_complex=True)\n",
    "        x_target_stft = torch.stft(input=x_target, n_fft=self.n_fft, hop_length=self.hop_length,window=torch.ones(N_FFT, device=DEVICE), normalized=True,return_complex=True)\n",
    "        # return 0\n",
    "        # print(x_noisy_stft)\n",
    "        return torch.view_as_real(x_noisy_stft), torch.view_as_real(x_target_stft)\n",
    "        \n",
    "    def _prepare_sample(self, waveform):\n",
    "        waveform = waveform.numpy()\n",
    "        # print(waveform.shape)\n",
    "        current_len = waveform.shape[1]\n",
    "        # print(current_len)\n",
    "        output = np.zeros((1, self.max_len), dtype='float32')\n",
    "        # print(output.shape)\n",
    "        output[0, -current_len:] = waveform[0,:self.max_len]\n",
    "        output = torch.from_numpy(output)\n",
    "        # print(output.shape)\n",
    "        return output"
   ]
  },
  {
   "cell_type": "code",
   "execution_count": 118,
   "id": "176918c9-d2db-4db1-94b7-f5bd987bab50",
   "metadata": {},
   "outputs": [],
   "source": [
    "train_input_files = sorted(list(TRAIN_INPUT_DIR.rglob('*.wav')))\n",
    "train_target_files = sorted(list(TRAIN_TARGET_DIR.rglob('*.wav')))\n",
    "\n",
    "test_noisy_files = sorted(list(TEST_NOISY_DIR.rglob('*.wav')))\n",
    "test_clean_files = sorted(list(TEST_CLEAN_DIR.rglob('*.wav')))\n",
    "\n",
    "# print(\"No. of Training files:\",len(train_input_files))\n",
    "# print(\"No. of Testing files:\",len(test_noisy_files))"
   ]
  },
  {
   "cell_type": "markdown",
   "id": "51483b35",
   "metadata": {},
   "source": [
    "***Make SpeechDataSet Objects for test and train files***"
   ]
  },
  {
   "cell_type": "code",
   "execution_count": 119,
   "id": "504be1ac-b4da-46d9-8aac-109d010ff275",
   "metadata": {},
   "outputs": [],
   "source": [
    "test_dataset = SpeechDataset(test_noisy_files, test_clean_files, N_FFT, HOP_LENGTH)\n",
    "train_dataset = SpeechDataset(train_input_files, train_target_files, N_FFT, HOP_LENGTH)"
   ]
  },
  {
   "cell_type": "markdown",
   "id": "ced01078",
   "metadata": {},
   "source": []
  },
  {
   "cell_type": "code",
   "execution_count": 120,
   "id": "04efc03b",
   "metadata": {},
   "outputs": [],
   "source": [
    "import matplotlib.pyplot as plt\n",
    "import librosa"
   ]
  },
  {
   "cell_type": "code",
   "execution_count": 121,
   "id": "16bd470e",
   "metadata": {},
   "outputs": [],
   "source": [
    "spectrogram = torchaudio.transforms.Spectrogram(\n",
    "    n_fft=N_FFT,\n",
    "    win_length=16,\n",
    "    hop_length=HOP_LENGTH,\n",
    "    center=True,\n",
    "    pad_mode=\"reflect\",\n",
    "    power=2.0,\n",
    ")"
   ]
  },
  {
   "cell_type": "code",
   "execution_count": 122,
   "id": "63ac5e7d",
   "metadata": {},
   "outputs": [],
   "source": [
    "def plot_spectrogram(spec, title=None, ylabel=\"freq_bin\", aspect=\"auto\", xmax=None):\n",
    "    fig, axs = plt.subplots(1, 1)\n",
    "    axs.set_title(title or \"Spectrogram (db)\")\n",
    "    axs.set_ylabel(ylabel)\n",
    "    axs.set_xlabel(\"frame\")\n",
    "    im = axs.imshow(librosa.power_to_db(spec), origin=\"lower\", aspect=aspect)\n",
    "    if xmax:\n",
    "        axs.set_xlim((0, xmax))\n",
    "    fig.colorbar(im, ax=axs)\n",
    "    plt.show(block=False)\n"
   ]
  },
  {
   "cell_type": "code",
   "execution_count": 123,
   "id": "3e085499",
   "metadata": {},
   "outputs": [],
   "source": [
    "# spec=spectrogram(train_dataset.load_sample(\"Datasets/US_Class3_Test_Input/p232_001.wav\"))\n"
   ]
  },
  {
   "cell_type": "code",
   "execution_count": 124,
   "id": "ba6f6e23",
   "metadata": {},
   "outputs": [],
   "source": [
    "# plot_spectrogram(spec[1], title=\"torchaudio\")"
   ]
  },
  {
   "cell_type": "markdown",
   "id": "4e65b06f",
   "metadata": {},
   "source": [
    "***Make Dataloader for train and test dataset***"
   ]
  },
  {
   "cell_type": "code",
   "execution_count": 125,
   "id": "9b927dd1-77b3-48db-8acf-83c50cc7a4a7",
   "metadata": {},
   "outputs": [],
   "source": [
    "test_loader=DataLoader(test_dataset,batch_size=1,shuffle=True)\n",
    "train_loader=DataLoader(train_dataset,batch_size=1,shuffle=True)"
   ]
  },
  {
   "cell_type": "markdown",
   "id": "c640f27c",
   "metadata": {},
   "source": [
    "***Define Convolution Class for Complex number For Down Sampling***"
   ]
  },
  {
   "cell_type": "code",
   "execution_count": 126,
   "id": "1f5410d3",
   "metadata": {},
   "outputs": [],
   "source": [
    "class CConv2d(nn.Module):\n",
    "\n",
    "    def __init__(self,in_channels,out_channels,kernel_size,stride=1,padding=0):\n",
    "        super().__init__()\n",
    "\n",
    "        self.in_channels=in_channels\n",
    "        self.out_channels=out_channels\n",
    "        self.kernel_size=kernel_size\n",
    "        self.padding=padding\n",
    "        self.stride=stride\n",
    "        self.real_conv= nn.Conv2d(in_channels=self.in_channels,\n",
    "                                  out_channels=self.out_channels,\n",
    "                                  kernel_size=self.kernel_size,\n",
    "                                  padding=self.padding,\n",
    "                                  stride=self.stride)\n",
    "        self.imag_conv = nn.Conv2d(in_channels=self.in_channels,\n",
    "                                  out_channels=self.out_channels,\n",
    "                                  kernel_size=self.kernel_size,\n",
    "                                  padding=self.padding,\n",
    "                                  stride=self.stride)\n",
    "        \n",
    "        nn.init.xavier_uniform_(self.real_conv.weight)\n",
    "        nn.init.xavier_uniform_(self.imag_conv.weight)\n",
    "    def forward(self,x):\n",
    "        # print(x.shape)\n",
    "        x_real = x[...,0]\n",
    "        x_imag= x[...,1]\n",
    "        c_real = self.real_conv(x_real)-self.imag_conv(x_imag)\n",
    "        c_imag=self.imag_conv(x_real)+self.real_conv(x_imag)\n",
    "\n",
    "        output = torch.stack([c_real,c_imag],dim=-1)\n",
    "        return output\n"
   ]
  },
  {
   "cell_type": "markdown",
   "id": "0140778e",
   "metadata": {},
   "source": [
    "***Define Convolution Class for Complex number For Up Sampling***"
   ]
  },
  {
   "cell_type": "code",
   "execution_count": 127,
   "id": "516694e8-9dd0-4408-b6da-c7e964113f9b",
   "metadata": {},
   "outputs": [],
   "source": [
    "class CConvTranspose2d(nn.Module):\n",
    "    def __init__(self,in_channels,out_channels,kernel_size,stride,out_padding=0,padding=0):\n",
    "        super().__init__()\n",
    "        self.in_channels=in_channels\n",
    "        self.out_channels=out_channels\n",
    "        self.kernel_size=kernel_size\n",
    "        self.padding=padding\n",
    "        self.out_padding=out_padding\n",
    "        self.stride=stride\n",
    "        \n",
    "        self.real_convt= nn.ConvTranspose2d(in_channels=self.in_channels,\n",
    "                                            out_channels=self.out_channels,\n",
    "                                            kernel_size=self.kernel_size,\n",
    "                                            stride=self.stride,\n",
    "                                            output_padding=self.out_padding,\n",
    "                                            padding=self.padding)\n",
    "        self.imag_convt=nn.ConvTranspose2d(in_channels=self.in_channels,\n",
    "                                            out_channels=self.out_channels,\n",
    "                                            kernel_size=self.kernel_size,\n",
    "                                            stride=self.stride,\n",
    "                                            output_padding=self.out_padding,\n",
    "                                            padding=self.padding)\n",
    "        nn.init.xavier_uniform_(self.real_convt.weight)\n",
    "        nn.init.xavier_uniform_(self.imag_convt.weight)\n",
    "\n",
    "\n",
    "    def forward(self,x):\n",
    "        # print(x.shape)\n",
    "        x_real=x[...,0]\n",
    "        x_imag=x[...,1]\n",
    "\n",
    "        c_real=self.real_convt(x_real)-self.imag_convt(x_imag)\n",
    "        c_imag=self.imag_convt(x_real)+self.real_convt(x_imag)\n",
    "            \n",
    "        output=torch.stack([c_real,c_imag],dim=-1)\n",
    "        \n",
    "        return output"
   ]
  },
  {
   "cell_type": "markdown",
   "id": "d7602cb4",
   "metadata": {},
   "source": [
    "***Define Batch Normalisation Class***"
   ]
  },
  {
   "cell_type": "code",
   "execution_count": 128,
   "id": "2bc31d53",
   "metadata": {},
   "outputs": [],
   "source": [
    "class CBatchNorm2D(nn.Module):\n",
    "    def __init__(self,num_features,eps=1e-05,momentum=0.1,affine=True, track_running_stats=True):\n",
    "        super().__init__()\n",
    "        self.num_features=num_features\n",
    "        self.affine=affine\n",
    "        self.momentum=momentum\n",
    "        self.eps=eps\n",
    "        self.track_running_stats=track_running_stats\n",
    "\n",
    "        self.real_b=nn.BatchNorm2d(num_features=self.num_features, eps=self.eps, momentum=self.momentum,\n",
    "                                      affine=self.affine, track_running_stats=self.track_running_stats)\n",
    "        self.imag_b=nn.BatchNorm2d(num_features=self.num_features, eps=self.eps, momentum=self.momentum,\n",
    "                                      affine=self.affine, track_running_stats=self.track_running_stats)\n",
    "        \n",
    "    def forward(self,x):\n",
    "        real=x[...,0]\n",
    "        imag=x[...,1]\n",
    "\n",
    "        real_cb=self.real_b(real)\n",
    "        imag_cb=self.imag_b(imag)\n",
    "\n",
    "        output=torch.stack([real_cb,imag_cb],dim=-1)\n",
    "        # print(x.shape)\n",
    "\n",
    "        return output\n",
    "    "
   ]
  },
  {
   "cell_type": "markdown",
   "id": "80f51604",
   "metadata": {},
   "source": [
    "***Encoder***\n",
    "\n",
    "Convolution --> Complex Batch Normalisation ---> Activation Function"
   ]
  },
  {
   "cell_type": "code",
   "execution_count": 129,
   "id": "4aed2897",
   "metadata": {},
   "outputs": [],
   "source": [
    "class Encoder(nn.Module):\n",
    "    def __init__(self,in_channels=1,out_channels=45,stride=(2,2),kernel_size=(7,5),padding=(0,0)):\n",
    "        super().__init__()\n",
    "        self.kernel_size=kernel_size\n",
    "        self.stride=stride\n",
    "        self.padding=padding\n",
    "        self.in_channels=in_channels\n",
    "        self.out_channels=out_channels\n",
    "\n",
    "        self.cconv= CConv2d(in_channels=self.in_channels,\n",
    "                            out_channels=self.out_channels,\n",
    "                            kernel_size=self.kernel_size,\n",
    "                            stride=self.stride,\n",
    "                            padding=self.padding)\n",
    "        self.cbn=CBatchNorm2D(num_features=self.out_channels)\n",
    "\n",
    "        self.leaky_relu=nn.LeakyReLU()\n",
    "        \n",
    "    def forward(self,x):\n",
    "        conved=self.cconv(x)\n",
    "        normed=self.cbn(conved)\n",
    "        acted=self.leaky_relu(normed)\n",
    "        # print(acted.shape)\n",
    "        return acted\n"
   ]
  },
  {
   "cell_type": "markdown",
   "id": "79146932",
   "metadata": {},
   "source": [
    "***Decoder***\n",
    "\n",
    "Transposed Convolution --->  Complex Batch Normalisation --->  Activation Function "
   ]
  },
  {
   "cell_type": "code",
   "execution_count": 130,
   "id": "e103f16b",
   "metadata": {},
   "outputs": [],
   "source": [
    "class Decoder(nn.Module):\n",
    "    def __init__(self,in_channels,out_channels,kernel_size,stride,padding,out_padding,last_layer):\n",
    "        super().__init__()\n",
    "\n",
    "        self.kernel_size = kernel_size\n",
    "        self.stride_size = stride\n",
    "        self.in_channels = in_channels\n",
    "        self.out_channels = out_channels\n",
    "        self.out_padding = out_padding\n",
    "        self.padding = padding\n",
    "        \n",
    "        self.last_layer = last_layer\n",
    "        self.cconvt = CConvTranspose2d(in_channels=self.in_channels, \n",
    "                                       out_channels=self.out_channels, \n",
    "                             kernel_size=self.kernel_size,\n",
    "                               stride=self.stride_size, \n",
    "                               out_padding=self.out_padding, \n",
    "                               padding=self.padding\n",
    "                               )\n",
    "        \n",
    "        self.cbn = CBatchNorm2D(num_features=self.out_channels) \n",
    "        \n",
    "        self.leaky_relu = nn.LeakyReLU()\n",
    "            \n",
    "    def forward(self, x):\n",
    "        \n",
    "        conved = self.cconvt(x)\n",
    "        \n",
    "        if not self.last_layer:\n",
    "            normed = self.cbn(conved)\n",
    "            output = self.leaky_relu(normed)\n",
    "        else:\n",
    "            m_phase = conved / (torch.abs(conved) + 1e-8)\n",
    "            m_mag = torch.tanh(torch.abs(conved))\n",
    "            output = m_phase * m_mag\n",
    "            \n",
    "        return output"
   ]
  },
  {
   "cell_type": "markdown",
   "id": "d8cafa36",
   "metadata": {},
   "source": [
    "***DCUNET Model Class***\n",
    "\n",
    "- Define Parameters\n",
    "- Creates Encoders For Down Sampling\n",
    "- Creates Decoders For Up Sampling\n",
    "- Apply Down Sampling and then UpSampling adn return istft Output"
   ]
  },
  {
   "cell_type": "code",
   "execution_count": 131,
   "id": "73f37211",
   "metadata": {},
   "outputs": [],
   "source": [
    "class DCUnet(nn.Module):\n",
    "    \"\"\"\n",
    "    Deep Complex U-Net class of the model.\n",
    "    \"\"\"\n",
    "    def __init__(self, n_fft=64, hop_length=16):\n",
    "        super().__init__()\n",
    "        \n",
    "        # for istft\n",
    "        self.n_fft = n_fft\n",
    "        self.hop_length = hop_length\n",
    "        \n",
    "        self.set_size(model_complexity=int(45//1.414), input_channels=1, model_depth=20)\n",
    "        self.encoders = []\n",
    "        self.model_length = 20 // 2\n",
    "        \n",
    "        for i in range(self.model_length):\n",
    "            module = Encoder(in_channels=self.enc_channels[i], out_channels=self.enc_channels[i + 1],\n",
    "                             kernel_size=self.enc_kernel_sizes[i], stride=self.enc_strides[i], padding=self.enc_paddings[i])\n",
    "            self.add_module(\"encoder{}\".format(i), module)\n",
    "            self.encoders.append(module)\n",
    "\n",
    "        self.decoders = []\n",
    "\n",
    "        for i in range(self.model_length):\n",
    "            if i != self.model_length - 1:\n",
    "                module = Decoder(in_channels=self.dec_channels[i] + self.enc_channels[self.model_length - i], out_channels=self.dec_channels[i + 1], \n",
    "                                 kernel_size=self.dec_kernel_sizes[i], stride=self.dec_strides[i], padding=self.dec_paddings[i],\n",
    "                                 out_padding=self.dec_output_padding[i],last_layer=False)\n",
    "            else:\n",
    "                module = Decoder(in_channels=self.dec_channels[i] + self.enc_channels[self.model_length - i], out_channels=self.dec_channels[i + 1], \n",
    "                                 kernel_size=self.dec_kernel_sizes[i], stride=self.dec_strides[i], padding=self.dec_paddings[i],\n",
    "                                 out_padding=self.dec_output_padding[i], last_layer=True)\n",
    "            self.add_module(\"decoder{}\".format(i), module)\n",
    "            self.decoders.append(module)\n",
    "       \n",
    "        \n",
    "    def forward(self, x, is_istft=True):\n",
    "        orig_x = x\n",
    "        xs = []\n",
    "        for i, encoder in enumerate(self.encoders):\n",
    "            xs.append(x)\n",
    "            x = encoder(x)\n",
    "        p = x\n",
    "        for i, decoder in enumerate(self.decoders):\n",
    "            p = decoder(p)\n",
    "            if i == self.model_length - 1:\n",
    "                break\n",
    "            p = torch.cat([p,xs[self.model_length - 1 - i]], dim=1)\n",
    "        mask = p\n",
    "        output = mask * orig_x\n",
    "        output = torch.squeeze(output, 1)\n",
    "        output=torch.view_as_complex(output)\n",
    "        if is_istft:\n",
    "            output = torch.istft(output,n_fft=self.n_fft, hop_length=self.hop_length,\n",
    "                                 window=torch.ones(N_FFT, device=DEVICE),return_complex=False, \n",
    "                                 normalized=True)\n",
    "        return output\n",
    "\n",
    "    \n",
    "    def set_size(self, model_complexity, model_depth=20, input_channels=1):\n",
    "\n",
    "        if model_depth == 20:\n",
    "            self.enc_channels = [input_channels,\n",
    "                                 model_complexity,\n",
    "                                 model_complexity,\n",
    "                                 model_complexity * 2,\n",
    "                                 model_complexity * 2,\n",
    "                                 model_complexity * 2,\n",
    "                                 model_complexity * 2,\n",
    "                                 model_complexity * 2,\n",
    "                                 model_complexity * 2,\n",
    "                                 model_complexity * 2,\n",
    "                                 128]\n",
    "\n",
    "            self.enc_kernel_sizes = [(7, 1),\n",
    "                                     (1, 7),\n",
    "                                     (6, 4),\n",
    "                                     (7, 5),\n",
    "                                     (5, 3),\n",
    "                                     (5, 3),\n",
    "                                     (5, 3),\n",
    "                                     (5, 3),\n",
    "                                     (5, 3),\n",
    "                                     (5, 3)]\n",
    "\n",
    "            self.enc_strides = [(1, 1),\n",
    "                                (1, 1),\n",
    "                                (2, 2),\n",
    "                                (2, 1),\n",
    "                                (2, 2),\n",
    "                                (2, 1),\n",
    "                                (2, 2),\n",
    "                                (2, 1),\n",
    "                                (2, 2),\n",
    "                                (2, 1)]\n",
    "\n",
    "            self.enc_paddings = [(3, 0),\n",
    "                                 (0, 3),\n",
    "                                 (0, 0),\n",
    "                                 (0, 0),\n",
    "                                 (0, 0),\n",
    "                                 (0, 0),\n",
    "                                 (0, 0),\n",
    "                                 (0, 0),\n",
    "                                 (0, 0),\n",
    "                                 (0, 0)]\n",
    "\n",
    "            self.dec_channels = [0,\n",
    "                                 model_complexity * 2,\n",
    "                                 model_complexity * 2,\n",
    "                                 model_complexity * 2,\n",
    "                                 model_complexity * 2,\n",
    "                                 model_complexity * 2,\n",
    "                                 model_complexity * 2,\n",
    "                                 model_complexity * 2,\n",
    "                                 model_complexity,\n",
    "                                 model_complexity,\n",
    "                                 1]\n",
    "\n",
    "            self.dec_kernel_sizes = [(6, 3), \n",
    "                                     (6, 3),\n",
    "                                     (6, 3),\n",
    "                                     (6, 4),\n",
    "                                     (6, 3),\n",
    "                                     (6, 4),\n",
    "                                     (8, 5),\n",
    "                                     (7, 5),\n",
    "                                     (1, 7),\n",
    "                                     (7, 1)]\n",
    "\n",
    "            self.dec_strides = [(2, 1), \n",
    "                                (2, 2), \n",
    "                                (2, 1), \n",
    "                                (2, 2), \n",
    "                                (2, 1), \n",
    "                                (2, 2), \n",
    "                                (2, 1), \n",
    "                                (2, 2), \n",
    "                                (1, 1),\n",
    "                                (1, 1)]\n",
    "\n",
    "            self.dec_paddings = [(0, 0),\n",
    "                                 (0, 0),\n",
    "                                 (0, 0),\n",
    "                                 (0, 0),\n",
    "                                 (0, 0),\n",
    "                                 (0, 0),\n",
    "                                 (0, 0),\n",
    "                                 (0, 0),\n",
    "                                 (0, 3),\n",
    "                                 (3, 0)]\n",
    "            \n",
    "            self.dec_output_padding = [(0,0),\n",
    "                                       (0,0),\n",
    "                                       (0,0),\n",
    "                                       (0,0),\n",
    "                                       (0,0),\n",
    "                                       (0,0),\n",
    "                                       (0,0),\n",
    "                                       (0,0),\n",
    "                                       (0,0),\n",
    "                                       (0,0)]\n",
    "        else:\n",
    "            raise ValueError(\"Unknown model depth : {}\".format(model_depth))"
   ]
  },
  {
   "cell_type": "code",
   "execution_count": 132,
   "id": "bf9ea54d",
   "metadata": {},
   "outputs": [],
   "source": [
    "import os\n",
    "basepath = str(noise_class)+\"NoiseToNoise\"\n",
    "os.makedirs(basepath,exist_ok=True)\n",
    "os.makedirs(basepath+\"/Weights\",exist_ok=True)\n",
    "os.makedirs(basepath+\"/Samples\",exist_ok=True)"
   ]
  },
  {
   "cell_type": "markdown",
   "id": "bcc2956f",
   "metadata": {},
   "source": [
    "***Loss Function***"
   ]
  },
  {
   "cell_type": "code",
   "execution_count": 133,
   "id": "48a1ec00",
   "metadata": {},
   "outputs": [],
   "source": [
    "def wsdr_fn(x_, y_pred_, y_true_, eps=1e-8):\n",
    "   \n",
    "    y_true_ = torch.squeeze(y_true_, 1)\n",
    "    y_true = torch.istft(torch.view_as_complex(y_true_), n_fft=N_FFT, hop_length=HOP_LENGTH, normalized=True,window=torch.ones(N_FFT, device=DEVICE),return_complex=False)\n",
    "    x_ = torch.squeeze(x_, 1)\n",
    "    x = torch.istft(torch.view_as_complex(x_), n_fft=N_FFT, hop_length=HOP_LENGTH, normalized=True,window=torch.ones(N_FFT, device=DEVICE),return_complex=False)\n",
    "\n",
    "    y_pred = y_pred_.flatten(1)\n",
    "    y_true = y_true.flatten(1)\n",
    "    x = x.flatten(1)\n",
    "\n",
    "\n",
    "    def sdr_fn(true, pred, eps=1e-8):\n",
    "        num = torch.sum(true * pred, dim=1)\n",
    "        den = torch.norm(true, p=2, dim=1) * torch.norm(pred, p=2, dim=1)\n",
    "        return -(num / (den + eps))\n",
    "\n",
    "\n",
    "    z_true = x - y_true\n",
    "    z_pred = x - y_pred\n",
    "\n",
    "    a = torch.sum(y_true**2, dim=1) / (torch.sum(y_true**2, dim=1) + torch.sum(z_true**2, dim=1) + eps)\n",
    "    wSDR = a * sdr_fn(y_true, y_pred) + (1 - a) * sdr_fn(z_true, z_pred)\n",
    "    return torch.mean(wSDR)\n"
   ]
  },
  {
   "cell_type": "markdown",
   "id": "50407edb",
   "metadata": {},
   "source": [
    "***Train Epoch***"
   ]
  },
  {
   "cell_type": "code",
   "execution_count": 134,
   "id": "11f1f7cd",
   "metadata": {},
   "outputs": [],
   "source": [
    "def train_epoch(net, train_loader, loss_fn, optimizer):\n",
    "    net.train()\n",
    "    train_ep_loss = 0.\n",
    "    counter = 0\n",
    "    cnt=0\n",
    "    try:\n",
    "        for noisy_x, clean_x in train_loader:\n",
    "\n",
    "            noisy_x, clean_x = noisy_x.to(DEVICE), clean_x.to(DEVICE)\n",
    "\n",
    "            net.zero_grad()\n",
    "\n",
    "            pred_x = net(noisy_x)\n",
    "            loss = loss_fn(noisy_x, pred_x, clean_x)\n",
    "            loss.backward()\n",
    "            optimizer.step()\n",
    "            print(cnt)\n",
    "            cnt+=1\n",
    "            train_ep_loss += loss.item() \n",
    "            counter += 1\n",
    "            # print(loss)\n",
    "            if counter>=5: \n",
    "                break\n",
    "        print(\"Working \")\n",
    "        train_ep_loss /= counter\n",
    "\n",
    "        gc.collect()\n",
    "        torch.cuda.empty_cache()\n",
    "        return train_ep_loss\n",
    "    except:\n",
    "        train_ep_loss"
   ]
  },
  {
   "cell_type": "markdown",
   "id": "fbe5e6c0",
   "metadata": {},
   "source": [
    "***Test Epoch***"
   ]
  },
  {
   "cell_type": "code",
   "execution_count": 135,
   "id": "658b1263",
   "metadata": {},
   "outputs": [],
   "source": [
    "def test_epoch(net, test_loader, loss_fn):\n",
    "    try:    \n",
    "        net.eval()\n",
    "        test_ep_loss = 0.\n",
    "        counter = 0.\n",
    "    \n",
    "        for noisy_x, clean_x in test_loader:\n",
    "        \n",
    "\n",
    "            noisy_x, clean_x = noisy_x.to(DEVICE), clean_x.to(DEVICE)\n",
    "            pred_x = net(noisy_x)\n",
    "       \n",
    "            loss = loss_fn(noisy_x, pred_x, clean_x)\n",
    "\n",
    "            test_ep_loss += loss.item() \n",
    "        \n",
    "            counter += 1\n",
    "            # print(loss)\n",
    "            # print(loss.item())\n",
    "            #for checking the working of Model\n",
    "            if counter>=5:\n",
    "                break\n",
    "     \n",
    "        test_ep_loss /= counter\n",
    "    \n",
    "    \n",
    "        gc.collect()\n",
    "        torch.cuda.empty_cache()\n",
    "        \n",
    "        \n",
    "        return test_ep_loss\n",
    "    except Exception as error:\n",
    "        print(error)\n",
    "        test_ep_loss,{}\n",
    "        "
   ]
  },
  {
   "cell_type": "markdown",
   "id": "7926ab42",
   "metadata": {},
   "source": [
    "***Train***"
   ]
  },
  {
   "cell_type": "code",
   "execution_count": 136,
   "id": "2ecf04cc",
   "metadata": {},
   "outputs": [],
   "source": [
    "def train(net, train_loader, test_loader, loss_fn, optimizer, scheduler, epochs):\n",
    "    train_losses = []\n",
    "    test_losses = []\n",
    "    try:\n",
    "        \n",
    "    # print(\"eme\")\n",
    "        for e in tqdm(range(epochs)):\n",
    "            print(e)\n",
    "        # print(\"sms\")\n",
    "            # if e == 0:\n",
    "            #     with torch.no_grad():\n",
    "            #         test_loss = test_epoch(net, test_loader, loss_fn)\n",
    "                \n",
    "            #     print(\"Loss before training:{:.6f}\".format(test_loss))\n",
    "            train_loss = train_epoch(net, train_loader, loss_fn, optimizer)\n",
    "            test_loss = 0\n",
    "            scheduler.step()\n",
    "        \n",
    "            with torch.no_grad():\n",
    "                test_loss = test_epoch(net, test_loader, loss_fn)\n",
    "\n",
    "            train_losses.append(train_loss)\n",
    "            test_losses.append(test_loss)\n",
    "            \n",
    "            torch.save(net.state_dict(), basepath +'/Weights/dc20_model_'+str(e+1)+'.pth')\n",
    "            torch.save(optimizer.state_dict(), basepath+'/Weights/dc20_opt_'+str(e+1)+'.pth') \n",
    "        \n",
    "\n",
    "            torch.cuda.empty_cache()\n",
    "            gc.collect()\n",
    "            print(\"Epoch: {}/{}...\".format(e+1, epochs),\n",
    "                      \"Loss: {:.6f}...\".format(train_loss),\n",
    "                      \"Test Loss: {:.6f}\".format(test_loss))\n",
    "            \n",
    "        return train_losses, test_losses\n",
    "    except Exception as error:\n",
    "        print(error) \n",
    "        return train_losses, test_losses"
   ]
  },
  {
   "cell_type": "markdown",
   "id": "ef1c6be9",
   "metadata": {},
   "source": [
    "***Create Model Object***\n",
    "\n",
    "With Adam Optimiser"
   ]
  },
  {
   "cell_type": "code",
   "execution_count": 137,
   "id": "4b9ac492",
   "metadata": {},
   "outputs": [],
   "source": [
    "gc.collect()\n",
    "torch.cuda.empty_cache()\n",
    "dcunet20 = DCUnet(N_FFT, HOP_LENGTH).to(DEVICE)\n",
    "optimizer = torch.optim.Adam(dcunet20.parameters())\n",
    "loss_fn = wsdr_fn\n",
    "scheduler = torch.optim.lr_scheduler.StepLR(optimizer, step_size=1, gamma=0.1)\n"
   ]
  },
  {
   "cell_type": "code",
   "execution_count": 138,
   "id": "f9a5c63c",
   "metadata": {},
   "outputs": [],
   "source": [
    "path_to_model=\"4NoiseToNoise/Weights/dc20_model_5.pth\"\n",
    "path_to_opt=\"4NoiseToNoise/Weights/dc20_opt_5.pth\"\n",
    "# specify paths and uncomment to resume training from a given point\n",
    "model_checkpoint = torch.load(path_to_model)\n",
    "opt_checkpoint = torch.load(path_to_opt)\n",
    "dcunet20.load_state_dict(model_checkpoint)\n",
    "optimizer.load_state_dict(opt_checkpoint)"
   ]
  },
  {
   "cell_type": "markdown",
   "id": "f9984f52",
   "metadata": {},
   "source": [
    "***Train Model***"
   ]
  },
  {
   "cell_type": "code",
   "execution_count": 139,
   "id": "c3ed1d1d",
   "metadata": {},
   "outputs": [],
   "source": [
    "# train_losses, test_losses = train(dcunet20, train_loader, test_loader, loss_fn, optimizer, scheduler, 20)"
   ]
  },
  {
   "cell_type": "markdown",
   "id": "9ce740fe",
   "metadata": {},
   "source": [
    "***Plot Loss Vs Epoch***"
   ]
  },
  {
   "cell_type": "code",
   "execution_count": 140,
   "id": "97178e3a",
   "metadata": {},
   "outputs": [],
   "source": [
    "# print(train_losses)\n",
    "# f = plt.figure(figsize=(8, 6))\n",
    "# plt.grid()\n",
    "# plt.plot(test_losses, label='test')\n",
    "# plt.xlabel('epoch')\n",
    "# plt.ylabel('loss')\n",
    "# plt.legend()\n",
    "# plt.show()"
   ]
  },
  {
   "cell_type": "code",
   "execution_count": 141,
   "id": "c0d72c8c",
   "metadata": {},
   "outputs": [],
   "source": [
    "# print(train_losses)\n",
    "# f = plt.figure(figsize=(8, 6))\n",
    "# plt.grid()\n",
    "# plt.plot(train_losses, label='train')\n",
    "# plt.xlabel('epoch')\n",
    "# plt.ylabel('loss')\n",
    "# plt.legend()\n",
    "# plt.show()"
   ]
  },
  {
   "cell_type": "markdown",
   "id": "5aaa1d8c",
   "metadata": {},
   "source": [
    "***Metric***"
   ]
  },
  {
   "cell_type": "code",
   "execution_count": 142,
   "id": "5ad6bca1",
   "metadata": {},
   "outputs": [],
   "source": [
    "def pesq_score(net, test_loader):\n",
    "    net.eval()\n",
    "    test_pesq = 0.\n",
    "    counter = 0.\n",
    "\n",
    "\n",
    "    for noisy_x, clean_x in test_loader:\n",
    "        \n",
    "        noisy_x = noisy_x.to(DEVICE)\n",
    "        with torch.no_grad():\n",
    "            pred_x = net(noisy_x)\n",
    "        clean_x = torch.squeeze(clean_x, 1)\n",
    "        clean_x = torch.istft(torch.view_as_complex(clean_x), n_fft=N_FFT, hop_length=HOP_LENGTH, normalized=True,window=torch.ones(N_FFT, device=DEVICE),return_complex=False)\n",
    "        \n",
    "        \n",
    "        psq = 0.\n",
    "        for i in range(len(clean_x)):\n",
    "            clean_x_16 = torchaudio.transforms.Resample(48000, 16000)(clean_x[i,:].view(1,-1))\n",
    "            pred_x_16 = torchaudio.transforms.Resample(48000, 16000)(pred_x[i,:].view(1,-1))\n",
    "\n",
    "            clean_x_16 = clean_x_16.cpu().cpu().numpy()\n",
    "            pred_x_16 = pred_x_16.detach().cpu().numpy()\n",
    "            \n",
    "            \n",
    "            \n",
    "            psq += pesq(clean_x_16.flatten(), pred_x_16.flatten(), 16000)\n",
    "            \n",
    "        psq /= len(clean_x)\n",
    "        test_pesq += psq\n",
    "        counter += 1\n",
    "\n",
    "    test_pesq /= counter \n",
    "    return test_pesq"
   ]
  },
  {
   "cell_type": "markdown",
   "id": "06a63f9f",
   "metadata": {},
   "source": [
    "***Signal Analysis For Clean, Predicted And Noisy***"
   ]
  },
  {
   "cell_type": "code",
   "execution_count": 143,
   "id": "bd518f65",
   "metadata": {},
   "outputs": [],
   "source": [
    "index = 1"
   ]
  },
  {
   "cell_type": "code",
   "execution_count": 144,
   "id": "6d890e15",
   "metadata": {},
   "outputs": [],
   "source": [
    "test_noisy_files = sorted(list(Path(\"Samples/Sample_Test_Input\").rglob('*.wav')))\n",
    "test_clean_files = sorted(list(Path(\"Samples/Sample_Test_Target\").rglob('*.wav')))\n",
    "\n",
    "test_dataset = SpeechDataset(test_noisy_files, test_clean_files, N_FFT, HOP_LENGTH)\n",
    "\n",
    "# For testing purpose\n",
    "test_loader_single_unshuffled = DataLoader(test_dataset, batch_size=1, shuffle=False)"
   ]
  },
  {
   "cell_type": "code",
   "execution_count": 145,
   "id": "47f33767",
   "metadata": {},
   "outputs": [],
   "source": [
    "dcunet20.eval()\n",
    "test_loader_single_unshuffled_iter = iter(test_loader_single_unshuffled)\n",
    "\n",
    "x_n, x_c = next(test_loader_single_unshuffled_iter)\n",
    "for _ in range(index):\n",
    "    x_n, x_c = next(test_loader_single_unshuffled_iter)\n",
    "\n",
    "x_est = dcunet20(x_n, is_istft=True)"
   ]
  },
  {
   "cell_type": "code",
   "execution_count": 146,
   "id": "ca4469e2",
   "metadata": {},
   "outputs": [],
   "source": [
    "x_est_np = x_est[0].view(-1).detach().cpu().numpy()\n",
    "x_c_np = torch.istft(torch.view_as_complex(torch.squeeze(x_c[0], 1)), n_fft=N_FFT, hop_length=HOP_LENGTH,window=torch.ones(N_FFT, device=DEVICE),return_complex=False, normalized=True).view(-1).detach().cpu().numpy()\n",
    "x_n_np = torch.istft(torch.view_as_complex(torch.squeeze(x_n[0], 1)), n_fft=N_FFT, hop_length=HOP_LENGTH,window=torch.ones(N_FFT, device=DEVICE),return_complex=False, normalized=True).view(-1).detach().cpu().numpy()"
   ]
  },
  {
   "cell_type": "markdown",
   "id": "62be4177",
   "metadata": {},
   "source": [
    "***Noisy***"
   ]
  },
  {
   "cell_type": "code",
   "execution_count": 147,
   "id": "eecc9338",
   "metadata": {},
   "outputs": [
    {
     "data": {
      "text/plain": [
       "[<matplotlib.lines.Line2D at 0x227c8ec5a60>]"
      ]
     },
     "execution_count": 147,
     "metadata": {},
     "output_type": "execute_result"
    },
    {
     "data": {
      "image/png": "[encoded data removed]",
      "text/plain": [
       "<Figure size 640x480 with 1 Axes>"
      ]
     },
     "metadata": {},
     "output_type": "display_data"
    }
   ],
   "source": [
    "plt.plot(x_n_np)"
   ]
  },
  {
   "cell_type": "markdown",
   "id": "90a201a6",
   "metadata": {},
   "source": [
    "***Predicted***"
   ]
  },
  {
   "cell_type": "code",
   "execution_count": 148,
   "id": "62772ea8",
   "metadata": {},
   "outputs": [
    {
     "data": {
      "text/plain": [
       "[<matplotlib.lines.Line2D at 0x227c89a1730>]"
      ]
     },
     "execution_count": 148,
     "metadata": {},
     "output_type": "execute_result"
    },
    {
     "data": {
      "image/png": "[encoded data removed]",
      "text/plain": [
       "<Figure size 640x480 with 1 Axes>"
      ]
     },
     "metadata": {},
     "output_type": "display_data"
    }
   ],
   "source": [
    "plt.plot(x_est_np)"
   ]
  },
  {
   "cell_type": "markdown",
   "id": "f3399114",
   "metadata": {},
   "source": [
    "***Clean***"
   ]
  },
  {
   "cell_type": "code",
   "execution_count": 149,
   "id": "9da6413b",
   "metadata": {},
   "outputs": [
    {
     "data": {
      "text/plain": [
       "[<matplotlib.lines.Line2D at 0x227c88522a0>]"
      ]
     },
     "execution_count": 149,
     "metadata": {},
     "output_type": "execute_result"
    },
    {
     "data": {
      "image/png": "[encoded data removed]",
      "text/plain": [
       "<Figure size 640x480 with 1 Axes>"
      ]
     },
     "metadata": {},
     "output_type": "display_data"
    }
   ],
   "source": [
    "plt.plot(x_c_np)\n"
   ]
  },
  {
   "cell_type": "code",
   "execution_count": 150,
   "id": "c14409bd",
   "metadata": {},
   "outputs": [],
   "source": [
    "metric = metriccs.AudioMetrics(x_c_np, x_est_np, SAMPLE_RATE)\n"
   ]
  },
  {
   "cell_type": "code",
   "execution_count": 151,
   "id": "ebb7affc",
   "metadata": {},
   "outputs": [
    {
     "name": "stdout",
     "output_type": "stream",
     "text": [
      "CSIG : 1.000\n",
      "CBAK : 2.449\n",
      "COVL : 1.006\n",
      "PESQ : 1.159\n",
      "SSNR : -1.202\n",
      "STOI : 0.675\n",
      "SNR : 8.054\n",
      "None\n"
     ]
    }
   ],
   "source": [
    "print(metric.display())"
   ]
  },
  {
   "cell_type": "code",
   "execution_count": 152,
   "id": "03f552ab",
   "metadata": {},
   "outputs": [],
   "source": [
    "\n",
    "def save_audio_file(np_array=np.array([0.5]*1000),file_path='./sample_audio.wav', sample_rate=48000, bit_precision=16):\n",
    "    np_array = np.reshape(np_array, (1,-1))\n",
    "    torch_tensor = torch.from_numpy(np_array)\n",
    "    torchaudio.save(file_path, torch_tensor, sample_rate,format=\"wav\")\n",
    "    #torchaudio.save(path, waveform, sample_rate, encoding=\"PCM_S\", bits_per_sample=16)\n",
    "    # torchaudio.save(uri: Union[BinaryIO, str, PathLike], src: Tensor, sample_rate: int, channels_first: bool = True, format: Optional[str] = None, encoding: Optional[str] = None, bits_per_sample: Optional[int] = None, buffer_size: int = 4096, backend: Optional[str] = None)"
   ]
  },
  {
   "cell_type": "code",
   "execution_count": 153,
   "id": "57b0cc73",
   "metadata": {},
   "outputs": [],
   "source": [
    "\n",
    "\n",
    "# save_audio_file(np_array=x_est_np,file_path=Path(\"Samples/denoised.wav\"), sample_rate=SAMPLE_RATE, bit_precision=16)\n",
    "# save_audio_file(np_array=x_c_np,file_path=Path(\"Samples/clean.wav\"), sample_rate=SAMPLE_RATE, bit_precision=16)\n",
    "# save_audio_file(np_array=x_n_np,file_path=Path(\"Samples/noisy.wav\"), sample_rate=SAMPLE_RATE, bit_precision=16)\n",
    "from scipy.io.wavfile import write\n",
    "write(\"x_est.wav\", SAMPLE_RATE, x_est_np.astype(np.float32))\n",
    "write(\"x_c.wav\", SAMPLE_RATE, x_c_np.astype(np.float32))\n",
    "write(\"x_n.wav\", SAMPLE_RATE, x_n_np.astype(np.float32))"
   ]
  },
  {
   "cell_type": "code",
   "execution_count": 154,
   "id": "b8c37480",
   "metadata": {},
   "outputs": [],
   "source": [
    "# model_weights_path = \"4NoiseToNoise\"\n",
    "\n",
    "# dcunet20 = DCUnet(N_FFT, HOP_LENGTH).to(DEVICE)\n",
    "# optimizer = torch.optim.Adam(dcunet20.parameters())\n",
    "\n",
    "# checkpoint = torch.load(model_weights_path,map_location=torch.device('cpu'))"
   ]
  },
  {
   "cell_type": "code",
   "execution_count": 155,
   "id": "9bf524c0",
   "metadata": {},
   "outputs": [],
   "source": [
    "test_noisy_files = sorted(list(Path(\"Samples/Sample_Test_Input\").rglob('*.wav')))\n",
    "test_clean_files = sorted(list(Path(\"Samples/Sample_Test_Target\").rglob('*.wav')))\n",
    "\n",
    "test_dataset = SpeechDataset(test_noisy_files, test_clean_files, N_FFT, HOP_LENGTH)\n",
    "\n",
    "# For testing purpose\n",
    "test_loader_single_unshuffled = DataLoader(test_dataset, batch_size=1, shuffle=False)"
   ]
  },
  {
   "cell_type": "code",
   "execution_count": 156,
   "id": "dcbb7981",
   "metadata": {},
   "outputs": [],
   "source": [
    "# dcunet20.load_state_dict(checkpoint)"
   ]
  },
  {
   "cell_type": "code",
   "execution_count": 157,
   "id": "6e1ba20c",
   "metadata": {},
   "outputs": [],
   "source": [
    "index = 4"
   ]
  },
  {
   "cell_type": "code",
   "execution_count": 158,
   "id": "a7ae6d8e",
   "metadata": {},
   "outputs": [],
   "source": [
    "dcunet20.eval()\n",
    "test_loader_single_unshuffled_iter = iter(test_loader_single_unshuffled)\n",
    "\n",
    "x_n, x_c = next(test_loader_single_unshuffled_iter)\n",
    "for _ in range(index):\n",
    "    x_n, x_c = next(test_loader_single_unshuffled_iter)\n",
    "\n",
    "x_est = dcunet20(x_n, is_istft=True)"
   ]
  },
  {
   "cell_type": "code",
   "execution_count": 159,
   "id": "865f9b14",
   "metadata": {},
   "outputs": [
    {
     "ename": "RuntimeError",
     "evalue": "istft requires a complex-valued input tensor matching the output from stft with return_complex=True.",
     "output_type": "error",
     "traceback": [
      "\u001b[1;31m---------------------------------------------------------------------------\u001b[0m",
      "\u001b[1;31mRuntimeError\u001b[0m                              Traceback (most recent call last)",
      "Cell \u001b[1;32mIn[159], line 2\u001b[0m\n\u001b[0;32m      1\u001b[0m x_est_np \u001b[38;5;241m=\u001b[39m x_est[\u001b[38;5;241m0\u001b[39m]\u001b[38;5;241m.\u001b[39mview(\u001b[38;5;241m-\u001b[39m\u001b[38;5;241m1\u001b[39m)\u001b[38;5;241m.\u001b[39mdetach()\u001b[38;5;241m.\u001b[39mcpu()\u001b[38;5;241m.\u001b[39mnumpy()\n\u001b[1;32m----> 2\u001b[0m x_c_np \u001b[38;5;241m=\u001b[39m \u001b[43mtorch\u001b[49m\u001b[38;5;241;43m.\u001b[39;49m\u001b[43mistft\u001b[49m\u001b[43m(\u001b[49m\u001b[43mtorch\u001b[49m\u001b[38;5;241;43m.\u001b[39;49m\u001b[43msqueeze\u001b[49m\u001b[43m(\u001b[49m\u001b[43mx_c\u001b[49m\u001b[43m[\u001b[49m\u001b[38;5;241;43m0\u001b[39;49m\u001b[43m]\u001b[49m\u001b[43m,\u001b[49m\u001b[43m \u001b[49m\u001b[38;5;241;43m1\u001b[39;49m\u001b[43m)\u001b[49m\u001b[43m,\u001b[49m\u001b[43m \u001b[49m\u001b[43mn_fft\u001b[49m\u001b[38;5;241;43m=\u001b[39;49m\u001b[43mN_FFT\u001b[49m\u001b[43m,\u001b[49m\u001b[43m \u001b[49m\u001b[43mhop_length\u001b[49m\u001b[38;5;241;43m=\u001b[39;49m\u001b[43mHOP_LENGTH\u001b[49m\u001b[43m,\u001b[49m\u001b[43m \u001b[49m\u001b[43mnormalized\u001b[49m\u001b[38;5;241;43m=\u001b[39;49m\u001b[38;5;28;43;01mTrue\u001b[39;49;00m\u001b[43m)\u001b[49m\u001b[38;5;241m.\u001b[39mview(\u001b[38;5;241m-\u001b[39m\u001b[38;5;241m1\u001b[39m)\u001b[38;5;241m.\u001b[39mdetach()\u001b[38;5;241m.\u001b[39mcpu()\u001b[38;5;241m.\u001b[39mnumpy()\n\u001b[0;32m      3\u001b[0m x_n_np \u001b[38;5;241m=\u001b[39m torch\u001b[38;5;241m.\u001b[39mistft(torch\u001b[38;5;241m.\u001b[39msqueeze(x_n[\u001b[38;5;241m0\u001b[39m], \u001b[38;5;241m1\u001b[39m), n_fft\u001b[38;5;241m=\u001b[39mN_FFT, hop_length\u001b[38;5;241m=\u001b[39mHOP_LENGTH, normalized\u001b[38;5;241m=\u001b[39m\u001b[38;5;28;01mTrue\u001b[39;00m)\u001b[38;5;241m.\u001b[39mview(\u001b[38;5;241m-\u001b[39m\u001b[38;5;241m1\u001b[39m)\u001b[38;5;241m.\u001b[39mdetach()\u001b[38;5;241m.\u001b[39mcpu()\u001b[38;5;241m.\u001b[39mnumpy()\n",
      "\u001b[1;31mRuntimeError\u001b[0m: istft requires a complex-valued input tensor matching the output from stft with return_complex=True."
     ]
    }
   ],
   "source": [
    "x_est_np = x_est[0].view(-1).detach().cpu().numpy()\n",
    "x_c_np = torch.istft(torch.squeeze(x_c[0], 1), n_fft=N_FFT, hop_length=HOP_LENGTH, normalized=True).view(-1).detach().cpu().numpy()\n",
    "x_n_np = torch.istft(torch.squeeze(x_n[0], 1), n_fft=N_FFT, hop_length=HOP_LENGTH, normalized=True).view(-1).detach().cpu().numpy()"
   ]
  },
  {
   "cell_type": "code",
   "execution_count": null,
   "id": "551d2e39",
   "metadata": {},
   "outputs": [],
   "source": [
    "metrics = metriccs.AudioMetrics(x_c_np, x_est_np, SAMPLE_RATE)\n",
    "print(metrics.display())"
   ]
  },
  {
   "cell_type": "code",
   "execution_count": null,
   "id": "cba26337",
   "metadata": {},
   "outputs": [],
   "source": [
    "plt.plot(x_n_np)"
   ]
  },
  {
   "cell_type": "code",
   "execution_count": null,
   "id": "4e910217",
   "metadata": {},
   "outputs": [],
   "source": [
    "plt.plot(x_est_np)"
   ]
  },
  {
   "cell_type": "code",
   "execution_count": null,
   "id": "d29170b3",
   "metadata": {},
   "outputs": [],
   "source": [
    "plt.plot(x_c_np)"
   ]
  }
 ],
 "metadata": {
  "kernelspec": {
   "display_name": "Python 3",
   "language": "python",
   "name": "python3"
  },
  "language_info": {
   "codemirror_mode": {
    "name": "ipython",
    "version": 3
   },
   "file_extension": ".py",
   "mimetype": "text/x-python",
   "name": "python",
   "nbconvert_exporter": "python",
   "pygments_lexer": "ipython3",
   "version": "3.12.1"
  }
 },
 "nbformat": 4,
 "nbformat_minor": 5
}
