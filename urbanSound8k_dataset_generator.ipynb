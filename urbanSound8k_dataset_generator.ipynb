{
 "cells": [
  {
   "cell_type": "code",
   "execution_count": 1,
   "id": "b8e4f230-63ab-4412-92c7-a245d3a571db",
   "metadata": {},
   "outputs": [
    {
     "data": {
      "text/plain": [
       "{0: 'air_conditioner',\n",
       " 1: 'car_horn',\n",
       " 2: 'children_playing',\n",
       " 3: 'dog_bark',\n",
       " 4: 'drilling',\n",
       " 5: 'engine_idling',\n",
       " 6: 'gun_shot',\n",
       " 7: 'jackhammer',\n",
       " 8: 'siren',\n",
       " 9: 'street_music'}"
      ]
     },
     "execution_count": 1,
     "metadata": {},
     "output_type": "execute_result"
    }
   ],
   "source": [
    "import numpy as np\n",
    "import os\n",
    "import random\n",
    "\n",
    "\n",
    "noise_class_dictionary = {\n",
    "0 : \"air_conditioner\",\n",
    "1 : \"car_horn\",\n",
    "2 : \"children_playing\",\n",
    "3 : \"dog_bark\",\n",
    "4 : \"drilling\",\n",
    "5 : \"engine_idling\",\n",
    "6 : \"gun_shot\",\n",
    "7 : \"jackhammer\",\n",
    "8 : \"siren\",\n",
    "9 : \"street_music\"\n",
    "}\n",
    "\n",
    "noise_class_dictionary"
   ]
  },
  {
   "cell_type": "code",
   "execution_count": 2,
   "id": "89e0a3d0-db7c-4cd3-83a3-577e1cfdb657",
   "metadata": {},
   "outputs": [
    {
     "name": "stderr",
     "output_type": "stream",
     "text": [
      "C:\\Users\\Avnesh\\AppData\\Local\\Programs\\Python\\Python312\\Lib\\site-packages\\pydub\\utils.py:170: RuntimeWarning: Couldn't find ffmpeg or avconv - defaulting to ffmpeg, but may not work\n",
      "  warn(\"Couldn't find ffmpeg or avconv - defaulting to ffmpeg, but may not work\", RuntimeWarning)\n"
     ]
    }
   ],
   "source": [
    "from pydub import AudioSegment\n"
   ]
  },
  {
   "cell_type": "code",
   "execution_count": 3,
   "id": "26592416-6d96-4961-a63d-6b457fb1afdf",
   "metadata": {},
   "outputs": [
    {
     "data": {
      "text/plain": [
       "['fold1/',\n",
       " 'fold2/',\n",
       " 'fold3/',\n",
       " 'fold4/',\n",
       " 'fold5/',\n",
       " 'fold6/',\n",
       " 'fold7/',\n",
       " 'fold8/',\n",
       " 'fold9/',\n",
       " 'fold10/']"
      ]
     },
     "execution_count": 3,
     "metadata": {},
     "output_type": "execute_result"
    }
   ],
   "source": [
    "fold_names = []\n",
    "for i in range(1,11):\n",
    "    fold_names.append(\"fold\"+str(i)+\"/\")\n",
    "\n",
    "fold_names"
   ]
  },
  {
   "cell_type": "code",
   "execution_count": 4,
   "id": "82409f77-fa11-4036-8927-6083ec4a23a5",
   "metadata": {},
   "outputs": [],
   "source": [
    "Urban8Kdir = \"UrbanSound8K/\"\n",
    "target_folder = \"Datasets/clean_trainset_28spk_wav\"\n"
   ]
  },
  {
   "cell_type": "code",
   "execution_count": 5,
   "id": "a6e5dc20-f563-44fb-b649-8238cd3fa3c8",
   "metadata": {},
   "outputs": [],
   "source": [
    "def diffNoiseType(files,noise_type):\n",
    "    result = []\n",
    "    for i in files:\n",
    "        if i.endswith(\".wav\"):\n",
    "            fname = i.split(\"-\")\n",
    "            if fname[1] != str(noise_type):\n",
    "                result.append(i)\n",
    "    return result\n"
   ]
  },
  {
   "cell_type": "code",
   "execution_count": 6,
   "id": "752f4931-1954-4cc5-9c80-72d3586abe7b",
   "metadata": {},
   "outputs": [],
   "source": [
    "def oneNoiseType(files, noise_type):\n",
    "    result = []\n",
    "    for i in files:\n",
    "        if i.endswith(\".wav\"):\n",
    "            fname = i.split(\"-\")\n",
    "            if fname[1] == str(noise_type):\n",
    "                result.append(i)\n",
    "    return result"
   ]
  },
  {
   "cell_type": "code",
   "execution_count": 7,
   "id": "0173a2b5-fbe7-4750-9a21-24618df5375e",
   "metadata": {},
   "outputs": [],
   "source": [
    "def genNoise(filename, num_per_fold, dest):\n",
    "    clean_audio_path = target_folder+\"/\"+filename\n",
    "    audio_1 = AudioSegment.from_file(clean_audio_path)\n",
    "    counter = 0\n",
    "    for fold in fold_names:\n",
    "        dirname = Urban8Kdir + fold\n",
    "        # print(dirname)\n",
    "        dirlist = os.listdir(dirname)\n",
    "        total_noise_len = len(dirlist)\n",
    "        samples = np.random.choice(total_noise_len, num_per_fold, replace=False)\n",
    "        print(samples)\n",
    "        for s in samples:\n",
    "            noisefile = dirlist[s]\n",
    "            try:\n",
    "                audio_2 = AudioSegment.from_file(dirname+\"/\"+noisefile)\n",
    "                combined = audio_1.overlay(audio_2, times=5)\n",
    "                target_dest = dest+\"/\"+filename[:len(filename)-4]+\"_noise_\"+str(counter)+\".wav\"\n",
    "                combined.export(target_dest, format=\"wav\")\n",
    "                audio = Audio(target_dest)\n",
    "                display(audio)\n",
    "                counter +=1\n",
    "            except:\n",
    "                print(\"Error\")\n",
    "\n"
   ]
  },
  {
   "cell_type": "code",
   "execution_count": 8,
   "id": "02c8441f-f07d-4ab6-a452-0e943403fde7",
   "metadata": {},
   "outputs": [],
   "source": [
    "# genNoise(\"p226_001.wav\",1,\"Datasets\")"
   ]
  },
  {
   "cell_type": "code",
   "execution_count": 9,
   "id": "b8e485fb-a9c5-4c2e-bda0-53832a59de15",
   "metadata": {},
   "outputs": [],
   "source": [
    "import torchaudio\n",
    "from IPython.display import Audio"
   ]
  },
  {
   "cell_type": "code",
   "execution_count": 30,
   "id": "5e0eda05-30e8-438b-a2c2-5385b773fa0b",
   "metadata": {},
   "outputs": [],
   "source": [
    "def genNoisyFile(filename,dest, noise_type,isdiff):\n",
    "    succ = False\n",
    "    true_path = target_folder+\"/\"+filename\n",
    "    count=0\n",
    "    while not succ:\n",
    "        try:\n",
    "            audio_1 = AudioSegment.from_file(true_path)\n",
    "        except:\n",
    "            print(\"Some kind of audio decoding error occurred for base file... skipping\")\n",
    "            break\n",
    "        try:\n",
    "            fold =  np.random.choice(fold_names, 1, replace=False)\n",
    "            fold = fold[0]\n",
    "            dirname = Urban8Kdir + fold\n",
    "            dirlist = os.listdir(dirname)\n",
    "            noisefile=\"\"\n",
    "            if isdiff:\n",
    "                possible_noises=diffNoiseType(dirlist,noise_type)\n",
    "                total_noise = len(possible_noises)\n",
    "                samples = np.random.choice(total_noise, 1, replace=False)\n",
    "                s = samples[0]\n",
    "                noisefile = possible_noises[s] \n",
    "            else:\n",
    "               possible_noises=oneNoiseType(dirlist,noise_type)\n",
    "               total_noise = len(possible_noises)\n",
    "               samples = np.random.choice(total_noise, 1, replace=False)\n",
    "               s = samples[0]\n",
    "               noisefile = possible_noises[s]\n",
    "\n",
    "            audio_2 = AudioSegment.from_file(dirname+\"/\"+noisefile)\n",
    "            combined = audio_1.overlay(audio_2, times=5)\n",
    "            target_dest = dest+\"/\"+filename\n",
    "            combined.export(target_dest, format=\"wav\")\n",
    "            # audio =Audio(target_dest)\n",
    "            # display(audio)\n",
    "            succ = True\n",
    "        except:\n",
    "            if count>5:\n",
    "                succ=True\n",
    "            count+=1\n",
    "            pass\n",
    "            # print(\"Some kind of audio decoding error occurred for the noise file..retrying\")\n",
    "            # break;\n",
    "\n"
   ]
  },
  {
   "cell_type": "code",
   "execution_count": 31,
   "id": "d6e7dcf5-00d3-4bc4-a3ab-947ff446cf4a",
   "metadata": {},
   "outputs": [
    {
     "name": "stdin",
     "output_type": "stream",
     "text": [
      "Enter the noise class dataset to generate :\t 3\n"
     ]
    }
   ],
   "source": [
    "noise_type = int(input(\"Enter the noise class dataset to generate :\\t\"))"
   ]
  },
  {
   "cell_type": "code",
   "execution_count": 32,
   "id": "e1f50bdc-4420-40e9-a14c-7e34dbda8228",
   "metadata": {},
   "outputs": [],
   "source": [
    "inp_folder = \"Datasets/US_Class\"+str(noise_type)+\"_Train_Input\"\n",
    "op_folder = \"Datasets/US_Class\"+str(noise_type)+\"_Train_Output\""
   ]
  },
  {
   "cell_type": "code",
   "execution_count": 33,
   "id": "41896144-d17e-47f5-9152-2dcebda1b5d5",
   "metadata": {},
   "outputs": [
    {
     "name": "stdout",
     "output_type": "stream",
     "text": [
      "Generating Training Data..\n",
      "Making train input folder\n",
      "Making train output folder\n"
     ]
    }
   ],
   "source": [
    "print(\"Generating Training Data..\")\n",
    "print(\"Making train input folder\")\n",
    "if not os.path.exists(inp_folder):\n",
    "    os.makedirs(inp_folder)\n",
    "print(\"Making train output folder\")\n",
    "if not os.path.exists(op_folder):\n",
    "    os.makedirs(op_folder)"
   ]
  },
  {
   "cell_type": "code",
   "execution_count": 34,
   "id": "08b88694-0c2d-41eb-af10-49bcf82e5bca",
   "metadata": {},
   "outputs": [],
   "source": [
    "from tqdm import tqdm"
   ]
  },
  {
   "cell_type": "code",
   "execution_count": 35,
   "id": "923bf0ba-1cff-48f1-9a94-16f7280b7e0c",
   "metadata": {},
   "outputs": [],
   "source": [
    "def generate_Train_dataset():\n",
    "    counter = 0\n",
    "    #noise_type = 1\n",
    "    for file in tqdm(os.listdir(target_folder)):\n",
    "        filename = os.fsdecode(file)\n",
    "        if filename.endswith(\".wav\"):\n",
    "            snr = random.randint(0,10)\n",
    "            # noise_type=random.randint(0,9)\n",
    "            genNoisyFile(filename,inp_folder,noise_type,snr,0)\n",
    "            snr = random.randint(0,10)\n",
    "            genNoisyFile(filename,op_folder,noise_type,snr,1)\n",
    "            counter +=1\n"
   ]
  },
  {
   "cell_type": "code",
   "execution_count": 36,
   "id": "b55e8d88-cf6e-4209-b3f7-52ee14b042b0",
   "metadata": {},
   "outputs": [],
   "source": [
    "# generate_Train_dataset()"
   ]
  },
  {
   "cell_type": "code",
   "execution_count": 42,
   "id": "4da393a9-1e49-44f1-a09a-cda692e88259",
   "metadata": {},
   "outputs": [],
   "source": [
    "Urban8Kdir = \"UrbanSound8K/\"\n",
    "target_folder = \"Datasets/clean_testset_wav\"\n",
    "inp_folder = \"Datasets/US_Class\"+str(noise_type)+\"_Test_Input\""
   ]
  },
  {
   "cell_type": "code",
   "execution_count": 43,
   "id": "3547f8cf-0926-4f8c-9c5f-c61a309d8a17",
   "metadata": {},
   "outputs": [
    {
     "name": "stdout",
     "output_type": "stream",
     "text": [
      "Generating Testing Data..\n",
      "Making test input folder\n"
     ]
    }
   ],
   "source": [
    "print(\"Generating Testing Data..\")\n",
    "print(\"Making test input folder\")\n",
    "if not os.path.exists(inp_folder):\n",
    "    os.makedirs(inp_folder)\n"
   ]
  },
  {
   "cell_type": "code",
   "execution_count": 44,
   "id": "f3eb80d9-a3ca-4b47-b3c0-af0fe6d7b55d",
   "metadata": {},
   "outputs": [],
   "source": [
    "def generate_Test_dataset():\n",
    "    counter = 0\n",
    "    for file in tqdm(os.listdir(target_folder)):\n",
    "        filename = os.fsdecode(file)\n",
    "        if filename.endswith(\".wav\"):\n",
    "            snr = random.randint(0,10)\n",
    "            genNoisyFile(filename,inp_folder,noise_type,snr,0)\n",
    "            counter +=1"
   ]
  },
  {
   "cell_type": "code",
   "execution_count": 45,
   "id": "77ead963-2d7e-40de-8782-2126ea14ab52",
   "metadata": {},
   "outputs": [
    {
     "name": "stderr",
     "output_type": "stream",
     "text": [
      "  9%|███████▍                                                                         | 76/824 [00:04<00:46, 16.02it/s]C:\\Users\\Avnesh\\AppData\\Local\\Programs\\Python\\Python312\\Lib\\site-packages\\pydub\\utils.py:198: RuntimeWarning: Couldn't find ffprobe or avprobe - defaulting to ffprobe, but may not work\n",
      "  warn(\"Couldn't find ffprobe or avprobe - defaulting to ffprobe, but may not work\", RuntimeWarning)\n",
      "100%|████████████████████████████████████████████████████████████████████████████████| 824/824 [00:47<00:00, 17.28it/s]\n"
     ]
    }
   ],
   "source": [
    "generate_Test_dataset()"
   ]
  },
  {
   "cell_type": "code",
   "execution_count": null,
   "id": "de787eed-3ce9-47c0-b068-48c9f0b3abb4",
   "metadata": {},
   "outputs": [],
   "source": []
  },
  {
   "cell_type": "code",
   "execution_count": null,
   "id": "4d561317-1791-46cf-8d6c-c66abb1464cd",
   "metadata": {},
   "outputs": [],
   "source": []
  }
 ],
 "metadata": {
  "kernelspec": {
   "display_name": "Python 3 (ipykernel)",
   "language": "python",
   "name": "python3"
  },
  "language_info": {
   "codemirror_mode": {
    "name": "ipython",
    "version": 3
   },
   "file_extension": ".py",
   "mimetype": "text/x-python",
   "name": "python",
   "nbconvert_exporter": "python",
   "pygments_lexer": "ipython3",
   "version": "3.12.1"
  }
 },
 "nbformat": 4,
 "nbformat_minor": 5
}
